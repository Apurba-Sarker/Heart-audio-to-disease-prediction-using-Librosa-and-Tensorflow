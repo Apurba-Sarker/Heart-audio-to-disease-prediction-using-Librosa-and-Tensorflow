{
 "cells": [
  {
   "cell_type": "code",
   "execution_count": 1,
   "id": "a2522d25",
   "metadata": {
    "_cell_guid": "b1076dfc-b9ad-4769-8c92-a6c4dae69d19",
    "_uuid": "8f2839f25d086af736a60e9eeb907d3b93b6e0e5",
    "execution": {
     "iopub.execute_input": "2024-02-13T17:54:27.228953Z",
     "iopub.status.busy": "2024-02-13T17:54:27.228134Z",
     "iopub.status.idle": "2024-02-13T17:54:45.521060Z",
     "shell.execute_reply": "2024-02-13T17:54:45.519753Z"
    },
    "papermill": {
     "duration": 18.304595,
     "end_time": "2024-02-13T17:54:45.524580",
     "exception": false,
     "start_time": "2024-02-13T17:54:27.219985",
     "status": "completed"
    },
    "tags": []
   },
   "outputs": [
    {
     "name": "stderr",
     "output_type": "stream",
     "text": [
      "2024-02-13 17:54:31.974792: E external/local_xla/xla/stream_executor/cuda/cuda_dnn.cc:9261] Unable to register cuDNN factory: Attempting to register factory for plugin cuDNN when one has already been registered\n",
      "2024-02-13 17:54:31.975000: E external/local_xla/xla/stream_executor/cuda/cuda_fft.cc:607] Unable to register cuFFT factory: Attempting to register factory for plugin cuFFT when one has already been registered\n",
      "2024-02-13 17:54:32.164797: E external/local_xla/xla/stream_executor/cuda/cuda_blas.cc:1515] Unable to register cuBLAS factory: Attempting to register factory for plugin cuBLAS when one has already been registered\n"
     ]
    }
   ],
   "source": [
    "import pandas as pd\n",
    "import numpy as np\n",
    "import os\n",
    "import seaborn as sns\n",
    "import matplotlib.pyplot as plt\n",
    "import librosa\n",
    "import librosa.display\n",
    "from IPython.display import Audio\n",
    "import warnings\n",
    "\n",
    "from tensorflow.keras.models import Sequential\n",
    "from tensorflow.keras.layers import Dense, Flatten\n",
    "from tensorflow.keras.preprocessing.sequence import pad_sequences\n",
    "from tensorflow.keras.layers import Conv2D, MaxPooling2D\n",
    "from tensorflow.keras.layers import Conv1D, MaxPooling1D\n",
    "\n",
    "from sklearn.metrics import accuracy_score, precision_score, recall_score, f1_score\n",
    "from sklearn.preprocessing import StandardScaler\n",
    "\n",
    "warnings.filterwarnings('ignore')"
   ]
  },
  {
   "cell_type": "code",
   "execution_count": 2,
   "id": "87565eb8",
   "metadata": {
    "execution": {
     "iopub.execute_input": "2024-02-13T17:54:45.538620Z",
     "iopub.status.busy": "2024-02-13T17:54:45.536928Z",
     "iopub.status.idle": "2024-02-13T17:54:45.586284Z",
     "shell.execute_reply": "2024-02-13T17:54:45.584931Z"
    },
    "papermill": {
     "duration": 0.058675,
     "end_time": "2024-02-13T17:54:45.589014",
     "exception": false,
     "start_time": "2024-02-13T17:54:45.530339",
     "status": "completed"
    },
    "tags": []
   },
   "outputs": [
    {
     "data": {
      "text/html": [
       "<div>\n",
       "<style scoped>\n",
       "    .dataframe tbody tr th:only-of-type {\n",
       "        vertical-align: middle;\n",
       "    }\n",
       "\n",
       "    .dataframe tbody tr th {\n",
       "        vertical-align: top;\n",
       "    }\n",
       "\n",
       "    .dataframe thead th {\n",
       "        text-align: right;\n",
       "    }\n",
       "</style>\n",
       "<table border=\"1\" class=\"dataframe\">\n",
       "  <thead>\n",
       "    <tr style=\"text-align: right;\">\n",
       "      <th></th>\n",
       "      <th>patient_id</th>\n",
       "      <th>AS</th>\n",
       "      <th>AR</th>\n",
       "      <th>MR</th>\n",
       "      <th>MS</th>\n",
       "      <th>N</th>\n",
       "      <th>recording_1</th>\n",
       "      <th>recording_2</th>\n",
       "      <th>recording_3</th>\n",
       "      <th>recording_4</th>\n",
       "      <th>recording_5</th>\n",
       "      <th>recording_6</th>\n",
       "      <th>recording_7</th>\n",
       "      <th>recording_8</th>\n",
       "    </tr>\n",
       "  </thead>\n",
       "  <tbody>\n",
       "    <tr>\n",
       "      <th>0</th>\n",
       "      <td>patient_052</td>\n",
       "      <td>0</td>\n",
       "      <td>1</td>\n",
       "      <td>0</td>\n",
       "      <td>0</td>\n",
       "      <td>0</td>\n",
       "      <td>052_sup_Mit</td>\n",
       "      <td>052_sup_Tri</td>\n",
       "      <td>052_sup_Pul</td>\n",
       "      <td>052_sup_Aor</td>\n",
       "      <td>052_sit_Mit</td>\n",
       "      <td>052_sit_Tri</td>\n",
       "      <td>052_sit_Pul</td>\n",
       "      <td>052_sit_Aor</td>\n",
       "    </tr>\n",
       "    <tr>\n",
       "      <th>1</th>\n",
       "      <td>patient_058</td>\n",
       "      <td>0</td>\n",
       "      <td>1</td>\n",
       "      <td>0</td>\n",
       "      <td>0</td>\n",
       "      <td>0</td>\n",
       "      <td>058_sup_Mit</td>\n",
       "      <td>058_sup_Tri</td>\n",
       "      <td>058_sup_Pul</td>\n",
       "      <td>058_sup_Aor</td>\n",
       "      <td>058_sit_Mit</td>\n",
       "      <td>058_sit_Tri</td>\n",
       "      <td>058_sit_Pul</td>\n",
       "      <td>058_sit_Aor</td>\n",
       "    </tr>\n",
       "    <tr>\n",
       "      <th>2</th>\n",
       "      <td>patient_068</td>\n",
       "      <td>0</td>\n",
       "      <td>1</td>\n",
       "      <td>0</td>\n",
       "      <td>0</td>\n",
       "      <td>0</td>\n",
       "      <td>068_sup_Mit</td>\n",
       "      <td>068_sup_Tri</td>\n",
       "      <td>068_sup_Pul</td>\n",
       "      <td>068_sup_Aor</td>\n",
       "      <td>068_sit_Mit</td>\n",
       "      <td>068_sit_Tri</td>\n",
       "      <td>068_sit_Pul</td>\n",
       "      <td>068_sit_Aor</td>\n",
       "    </tr>\n",
       "    <tr>\n",
       "      <th>3</th>\n",
       "      <td>patient_074</td>\n",
       "      <td>0</td>\n",
       "      <td>1</td>\n",
       "      <td>0</td>\n",
       "      <td>0</td>\n",
       "      <td>0</td>\n",
       "      <td>074_sup_Mit</td>\n",
       "      <td>074_sup_Tri</td>\n",
       "      <td>074_sup_Pul</td>\n",
       "      <td>074_sup_Aor</td>\n",
       "      <td>074_sit_Mit</td>\n",
       "      <td>074_sit_Tri</td>\n",
       "      <td>074_sit_Pul</td>\n",
       "      <td>074_sit_Aor</td>\n",
       "    </tr>\n",
       "    <tr>\n",
       "      <th>4</th>\n",
       "      <td>patient_054</td>\n",
       "      <td>1</td>\n",
       "      <td>0</td>\n",
       "      <td>0</td>\n",
       "      <td>0</td>\n",
       "      <td>0</td>\n",
       "      <td>054_sup_Mit</td>\n",
       "      <td>054_sup_Tri</td>\n",
       "      <td>054_sup_Pul</td>\n",
       "      <td>054_sup_Aor</td>\n",
       "      <td>054_sit_Mit</td>\n",
       "      <td>054_sit_Tri</td>\n",
       "      <td>054_sit_Pul</td>\n",
       "      <td>054_sit_Aor</td>\n",
       "    </tr>\n",
       "  </tbody>\n",
       "</table>\n",
       "</div>"
      ],
      "text/plain": [
       "    patient_id  AS  AR  MR  MS  N  recording_1  recording_2  recording_3  \\\n",
       "0  patient_052   0   1   0   0  0  052_sup_Mit  052_sup_Tri  052_sup_Pul   \n",
       "1  patient_058   0   1   0   0  0  058_sup_Mit  058_sup_Tri  058_sup_Pul   \n",
       "2  patient_068   0   1   0   0  0  068_sup_Mit  068_sup_Tri  068_sup_Pul   \n",
       "3  patient_074   0   1   0   0  0  074_sup_Mit  074_sup_Tri  074_sup_Pul   \n",
       "4  patient_054   1   0   0   0  0  054_sup_Mit  054_sup_Tri  054_sup_Pul   \n",
       "\n",
       "   recording_4  recording_5  recording_6  recording_7  recording_8  \n",
       "0  052_sup_Aor  052_sit_Mit  052_sit_Tri  052_sit_Pul  052_sit_Aor  \n",
       "1  058_sup_Aor  058_sit_Mit  058_sit_Tri  058_sit_Pul  058_sit_Aor  \n",
       "2  068_sup_Aor  068_sit_Mit  068_sit_Tri  068_sit_Pul  068_sit_Aor  \n",
       "3  074_sup_Aor  074_sit_Mit  074_sit_Tri  074_sit_Pul  074_sit_Aor  \n",
       "4  054_sup_Aor  054_sit_Mit  054_sit_Tri  054_sit_Pul  054_sit_Aor  "
      ]
     },
     "execution_count": 2,
     "metadata": {},
     "output_type": "execute_result"
    }
   ],
   "source": [
    "df = pd.read_csv('/kaggle/input/biomed-datathon-bmefest2/train.csv')\n",
    "df_test = pd.read_csv('/kaggle/input/biomed-datathon-bmefest2/test_files.csv')\n",
    "df.head()"
   ]
  },
  {
   "cell_type": "code",
   "execution_count": 3,
   "id": "e345237f",
   "metadata": {
    "execution": {
     "iopub.execute_input": "2024-02-13T17:54:45.602001Z",
     "iopub.status.busy": "2024-02-13T17:54:45.601587Z",
     "iopub.status.idle": "2024-02-13T17:54:45.616582Z",
     "shell.execute_reply": "2024-02-13T17:54:45.615454Z"
    },
    "papermill": {
     "duration": 0.024549,
     "end_time": "2024-02-13T17:54:45.619214",
     "exception": false,
     "start_time": "2024-02-13T17:54:45.594665",
     "status": "completed"
    },
    "tags": []
   },
   "outputs": [
    {
     "data": {
      "text/html": [
       "<div>\n",
       "<style scoped>\n",
       "    .dataframe tbody tr th:only-of-type {\n",
       "        vertical-align: middle;\n",
       "    }\n",
       "\n",
       "    .dataframe tbody tr th {\n",
       "        vertical-align: top;\n",
       "    }\n",
       "\n",
       "    .dataframe thead th {\n",
       "        text-align: right;\n",
       "    }\n",
       "</style>\n",
       "<table border=\"1\" class=\"dataframe\">\n",
       "  <thead>\n",
       "    <tr style=\"text-align: right;\">\n",
       "      <th></th>\n",
       "      <th>patient_id</th>\n",
       "      <th>recording_1</th>\n",
       "      <th>recording_2</th>\n",
       "      <th>recording_3</th>\n",
       "      <th>recording_4</th>\n",
       "      <th>recording_5</th>\n",
       "      <th>recording_6</th>\n",
       "      <th>recording_7</th>\n",
       "      <th>recording_8</th>\n",
       "    </tr>\n",
       "  </thead>\n",
       "  <tbody>\n",
       "    <tr>\n",
       "      <th>0</th>\n",
       "      <td>patient_001</td>\n",
       "      <td>001_sit_Aor</td>\n",
       "      <td>001_sit_Mit</td>\n",
       "      <td>001_sit_Pul</td>\n",
       "      <td>001_sit_Tri</td>\n",
       "      <td>001_sup_Aor</td>\n",
       "      <td>001_sup_Mit</td>\n",
       "      <td>001_sup_Pul</td>\n",
       "      <td>001_sup_Tri</td>\n",
       "    </tr>\n",
       "    <tr>\n",
       "      <th>1</th>\n",
       "      <td>patient_003</td>\n",
       "      <td>003_sit_Aor</td>\n",
       "      <td>003_sit_Mit</td>\n",
       "      <td>003_sit_Pul</td>\n",
       "      <td>003_sit_Tri</td>\n",
       "      <td>003_sup_Aor</td>\n",
       "      <td>003_sup_Mit</td>\n",
       "      <td>003_sup_Pul</td>\n",
       "      <td>003_sup_Tri</td>\n",
       "    </tr>\n",
       "    <tr>\n",
       "      <th>2</th>\n",
       "      <td>patient_005</td>\n",
       "      <td>005_sit_Aor</td>\n",
       "      <td>005_sit_Mit</td>\n",
       "      <td>005_sit_Pul</td>\n",
       "      <td>005_sit_Tri</td>\n",
       "      <td>005_sup_Aor</td>\n",
       "      <td>005_sup_Mit</td>\n",
       "      <td>005_sup_Pul</td>\n",
       "      <td>005_sup_Tri</td>\n",
       "    </tr>\n",
       "    <tr>\n",
       "      <th>3</th>\n",
       "      <td>patient_007</td>\n",
       "      <td>007_sit_Aor</td>\n",
       "      <td>007_sit_Mit</td>\n",
       "      <td>007_sit_Pul</td>\n",
       "      <td>007_sit_Tri</td>\n",
       "      <td>007_sup_Aor</td>\n",
       "      <td>007_sup_Mit</td>\n",
       "      <td>007_sup_Pul</td>\n",
       "      <td>007_sup_Tri</td>\n",
       "    </tr>\n",
       "    <tr>\n",
       "      <th>4</th>\n",
       "      <td>patient_008</td>\n",
       "      <td>008_sit_Aor</td>\n",
       "      <td>008_sit_Mit</td>\n",
       "      <td>008_sit_Pul</td>\n",
       "      <td>008_sit_Tri</td>\n",
       "      <td>008_sup_Aor</td>\n",
       "      <td>008_sup_Mit</td>\n",
       "      <td>008_sup_Pul</td>\n",
       "      <td>008_sup_Tri</td>\n",
       "    </tr>\n",
       "  </tbody>\n",
       "</table>\n",
       "</div>"
      ],
      "text/plain": [
       "    patient_id  recording_1  recording_2  recording_3  recording_4  \\\n",
       "0  patient_001  001_sit_Aor  001_sit_Mit  001_sit_Pul  001_sit_Tri   \n",
       "1  patient_003  003_sit_Aor  003_sit_Mit  003_sit_Pul  003_sit_Tri   \n",
       "2  patient_005  005_sit_Aor  005_sit_Mit  005_sit_Pul  005_sit_Tri   \n",
       "3  patient_007  007_sit_Aor  007_sit_Mit  007_sit_Pul  007_sit_Tri   \n",
       "4  patient_008  008_sit_Aor  008_sit_Mit  008_sit_Pul  008_sit_Tri   \n",
       "\n",
       "   recording_5  recording_6  recording_7  recording_8  \n",
       "0  001_sup_Aor  001_sup_Mit  001_sup_Pul  001_sup_Tri  \n",
       "1  003_sup_Aor  003_sup_Mit  003_sup_Pul  003_sup_Tri  \n",
       "2  005_sup_Aor  005_sup_Mit  005_sup_Pul  005_sup_Tri  \n",
       "3  007_sup_Aor  007_sup_Mit  007_sup_Pul  007_sup_Tri  \n",
       "4  008_sup_Aor  008_sup_Mit  008_sup_Pul  008_sup_Tri  "
      ]
     },
     "execution_count": 3,
     "metadata": {},
     "output_type": "execute_result"
    }
   ],
   "source": [
    "df_test.head()"
   ]
  },
  {
   "cell_type": "code",
   "execution_count": 4,
   "id": "e37f8d89",
   "metadata": {
    "execution": {
     "iopub.execute_input": "2024-02-13T17:54:45.633147Z",
     "iopub.status.busy": "2024-02-13T17:54:45.632731Z",
     "iopub.status.idle": "2024-02-13T17:55:16.584498Z",
     "shell.execute_reply": "2024-02-13T17:55:16.577342Z"
    },
    "papermill": {
     "duration": 30.973368,
     "end_time": "2024-02-13T17:55:16.598456",
     "exception": false,
     "start_time": "2024-02-13T17:54:45.625088",
     "status": "completed"
    },
    "tags": []
   },
   "outputs": [
    {
     "name": "stdout",
     "output_type": "stream",
     "text": [
      "X shape: (59, 8, 13, 118)\n",
      "y shape: (59, 5)\n"
     ]
    }
   ],
   "source": [
    "X = []\n",
    "y = []\n",
    "\n",
    "max_time_steps = 118 \n",
    "\n",
    "for index, row in df.iterrows():\n",
    "\n",
    "    patient_features = []\n",
    "    for i in range(1, 9):  \n",
    "        recording_column = f'recording_{i}'\n",
    "        if row[recording_column] == \"085_sit_Tri\":\n",
    "            file_path = f\"/kaggle/input/biomed-datathon-bmefest2/train/085_sit_Tri6_06.wav\"\n",
    "        else:\n",
    "            file_path = f\"/kaggle/input/biomed-datathon-bmefest2/train/{row[recording_column]}.wav\"\n",
    "\n",
    "        g, sr = librosa.load(file_path, sr=None)\n",
    "\n",
    "        features = librosa.feature.mfcc(y=g, sr=sr, n_mfcc=13)\n",
    "\n",
    "        features_padded = pad_sequences([features.T], maxlen=max_time_steps, padding='post', dtype='float32', truncating='post', value=-999.0).T\n",
    "\n",
    "        features_padded = np.squeeze(features_padded)\n",
    "\n",
    "        patient_features.append(features_padded)\n",
    "\n",
    "    X.append(patient_features)\n",
    "\n",
    "    label_vector = [row[\"AS\"], row[\"AR\"], row[\"MR\"], row[\"MS\"], row[\"N\"]]\n",
    "    y.append(label_vector)\n",
    "\n",
    "X = np.array(X)\n",
    "y = np.array(y)\n",
    "\n",
    "print(\"X shape:\", X.shape)\n",
    "print(\"y shape:\", y.shape)\n"
   ]
  },
  {
   "cell_type": "code",
   "execution_count": 5,
   "id": "1c9033b6",
   "metadata": {
    "execution": {
     "iopub.execute_input": "2024-02-13T17:55:16.653544Z",
     "iopub.status.busy": "2024-02-13T17:55:16.652539Z",
     "iopub.status.idle": "2024-02-13T17:55:16.684727Z",
     "shell.execute_reply": "2024-02-13T17:55:16.683702Z"
    },
    "papermill": {
     "duration": 0.060494,
     "end_time": "2024-02-13T17:55:16.687542",
     "exception": false,
     "start_time": "2024-02-13T17:55:16.627048",
     "status": "completed"
    },
    "tags": []
   },
   "outputs": [
    {
     "name": "stdout",
     "output_type": "stream",
     "text": [
      "<class 'pandas.core.frame.DataFrame'>\n",
      "RangeIndex: 49 entries, 0 to 48\n",
      "Data columns (total 9 columns):\n",
      " #   Column       Non-Null Count  Dtype \n",
      "---  ------       --------------  ----- \n",
      " 0   patient_id   49 non-null     object\n",
      " 1   recording_1  49 non-null     object\n",
      " 2   recording_2  49 non-null     object\n",
      " 3   recording_3  49 non-null     object\n",
      " 4   recording_4  49 non-null     object\n",
      " 5   recording_5  49 non-null     object\n",
      " 6   recording_6  49 non-null     object\n",
      " 7   recording_7  49 non-null     object\n",
      " 8   recording_8  49 non-null     object\n",
      "dtypes: object(9)\n",
      "memory usage: 3.6+ KB\n"
     ]
    }
   ],
   "source": [
    "df_test.info()"
   ]
  },
  {
   "cell_type": "code",
   "execution_count": 6,
   "id": "283d433e",
   "metadata": {
    "execution": {
     "iopub.execute_input": "2024-02-13T17:55:16.701937Z",
     "iopub.status.busy": "2024-02-13T17:55:16.701154Z",
     "iopub.status.idle": "2024-02-13T17:55:29.727618Z",
     "shell.execute_reply": "2024-02-13T17:55:29.723325Z"
    },
    "papermill": {
     "duration": 13.038615,
     "end_time": "2024-02-13T17:55:29.732133",
     "exception": false,
     "start_time": "2024-02-13T17:55:16.693518",
     "status": "completed"
    },
    "tags": []
   },
   "outputs": [
    {
     "name": "stdout",
     "output_type": "stream",
     "text": [
      "X_test shape: (49, 8, 13, 118)\n"
     ]
    }
   ],
   "source": [
    "X_test = []\n",
    "\n",
    "max_time_steps = 118  \n",
    "\n",
    "for index, row in df_test.iterrows():\n",
    "\n",
    "    patient_features = []\n",
    "    for i in range(1, 9):  \n",
    "        recording_column = f'recording_{i}'\n",
    "        file_path = f\"/kaggle/input/biomed-datathon-bmefest2/test/{row[recording_column]}.wav\"\n",
    "\n",
    "        g, sr = librosa.load(file_path, sr=None)\n",
    "\n",
    "        features = librosa.feature.mfcc(y=g, sr=sr, n_mfcc=13)\n",
    "\n",
    "        features_truncated = features[:, :max_time_steps]\n",
    "\n",
    "        patient_features.append(features_truncated)\n",
    "\n",
    "    X_test.append(patient_features)\n",
    "\n",
    "X_test = np.array(X_test)\n",
    "\n",
    "print(\"X_test shape:\", X_test.shape)\n"
   ]
  },
  {
   "cell_type": "code",
   "execution_count": 7,
   "id": "5a9b1ff7",
   "metadata": {
    "execution": {
     "iopub.execute_input": "2024-02-13T17:55:29.762394Z",
     "iopub.status.busy": "2024-02-13T17:55:29.760491Z",
     "iopub.status.idle": "2024-02-13T17:55:29.818747Z",
     "shell.execute_reply": "2024-02-13T17:55:29.817231Z"
    },
    "papermill": {
     "duration": 0.077958,
     "end_time": "2024-02-13T17:55:29.823529",
     "exception": false,
     "start_time": "2024-02-13T17:55:29.745571",
     "status": "completed"
    },
    "tags": []
   },
   "outputs": [
    {
     "name": "stdout",
     "output_type": "stream",
     "text": [
      "X shape: (59, 12272)\n",
      "y shape: (59, 5)\n",
      "X_test shape: (49, 12272)\n"
     ]
    }
   ],
   "source": [
    "X = np.array(X)\n",
    "X_test = np.array(X_test)\n",
    "y = df[['AS','AR','MR','MS','N']]\n",
    "y = np.array(y)\n",
    "scaler = StandardScaler()\n",
    "X = scaler.fit_transform(X.reshape((X.shape[0], -1)))\n",
    "X_test = scaler.fit_transform(X_test.reshape((X_test.shape[0], -1)))\n",
    "\n",
    "print(\"X shape:\", X.shape)\n",
    "print(\"y shape:\", y.shape)\n",
    "print(\"X_test shape:\", X_test.shape)"
   ]
  },
  {
   "cell_type": "code",
   "execution_count": 8,
   "id": "2e899442",
   "metadata": {
    "execution": {
     "iopub.execute_input": "2024-02-13T17:55:29.845299Z",
     "iopub.status.busy": "2024-02-13T17:55:29.844887Z",
     "iopub.status.idle": "2024-02-13T17:55:30.431393Z",
     "shell.execute_reply": "2024-02-13T17:55:30.430197Z"
    },
    "papermill": {
     "duration": 0.597041,
     "end_time": "2024-02-13T17:55:30.434154",
     "exception": false,
     "start_time": "2024-02-13T17:55:29.837113",
     "status": "completed"
    },
    "tags": []
   },
   "outputs": [],
   "source": [
    "model = Sequential()\n",
    "model.add(Flatten(input_shape=(X.shape[1],)))\n",
    "model.add(Dense(128, activation='relu'))\n",
    "model.add(Dense(64, activation='relu'))\n",
    "model.add(Dense(5, activation='sigmoid'))\n",
    "model.compile(optimizer='adam', loss='binary_crossentropy', metrics=['accuracy'])"
   ]
  },
  {
   "cell_type": "code",
   "execution_count": 9,
   "id": "93a79fd9",
   "metadata": {
    "execution": {
     "iopub.execute_input": "2024-02-13T17:55:30.448141Z",
     "iopub.status.busy": "2024-02-13T17:55:30.447724Z",
     "iopub.status.idle": "2024-02-13T17:55:38.343174Z",
     "shell.execute_reply": "2024-02-13T17:55:38.341764Z"
    },
    "papermill": {
     "duration": 7.906252,
     "end_time": "2024-02-13T17:55:38.346528",
     "exception": false,
     "start_time": "2024-02-13T17:55:30.440276",
     "status": "completed"
    },
    "tags": []
   },
   "outputs": [
    {
     "name": "stdout",
     "output_type": "stream",
     "text": [
      "Epoch 1/100\n",
      "2/2 [==============================] - 1s 265ms/step - loss: 0.8558 - accuracy: 0.1509 - val_loss: 0.9783 - val_accuracy: 0.5000\n",
      "Epoch 2/100\n",
      "2/2 [==============================] - 0s 54ms/step - loss: 0.3090 - accuracy: 0.6038 - val_loss: 1.1066 - val_accuracy: 0.1667\n",
      "Epoch 3/100\n",
      "2/2 [==============================] - 0s 50ms/step - loss: 0.1326 - accuracy: 0.7925 - val_loss: 1.1416 - val_accuracy: 0.1667\n",
      "Epoch 4/100\n",
      "2/2 [==============================] - 0s 46ms/step - loss: 0.0152 - accuracy: 0.8113 - val_loss: 1.1046 - val_accuracy: 0.5000\n",
      "Epoch 5/100\n",
      "2/2 [==============================] - 0s 43ms/step - loss: 0.0111 - accuracy: 0.7547 - val_loss: 1.1301 - val_accuracy: 0.5000\n",
      "Epoch 6/100\n",
      "2/2 [==============================] - 0s 64ms/step - loss: 0.0023 - accuracy: 0.7547 - val_loss: 1.1643 - val_accuracy: 0.5000\n",
      "Epoch 7/100\n",
      "2/2 [==============================] - 0s 47ms/step - loss: 0.0014 - accuracy: 0.7547 - val_loss: 1.1931 - val_accuracy: 0.5000\n",
      "Epoch 8/100\n",
      "2/2 [==============================] - 0s 46ms/step - loss: 0.0015 - accuracy: 0.7547 - val_loss: 1.2114 - val_accuracy: 0.5000\n",
      "Epoch 9/100\n",
      "2/2 [==============================] - 0s 45ms/step - loss: 0.0010 - accuracy: 0.7170 - val_loss: 1.2263 - val_accuracy: 0.5000\n",
      "Epoch 10/100\n",
      "2/2 [==============================] - 0s 58ms/step - loss: 6.3894e-04 - accuracy: 0.6981 - val_loss: 1.2329 - val_accuracy: 0.5000\n",
      "Epoch 11/100\n",
      "2/2 [==============================] - 0s 57ms/step - loss: 3.9177e-04 - accuracy: 0.6981 - val_loss: 1.2368 - val_accuracy: 0.5000\n",
      "Epoch 12/100\n",
      "2/2 [==============================] - 0s 44ms/step - loss: 2.5648e-04 - accuracy: 0.6981 - val_loss: 1.2394 - val_accuracy: 0.5000\n",
      "Epoch 13/100\n",
      "2/2 [==============================] - 0s 46ms/step - loss: 1.7838e-04 - accuracy: 0.6981 - val_loss: 1.2414 - val_accuracy: 0.5000\n",
      "Epoch 14/100\n",
      "2/2 [==============================] - 0s 46ms/step - loss: 1.4483e-04 - accuracy: 0.6981 - val_loss: 1.2425 - val_accuracy: 0.5000\n",
      "Epoch 15/100\n",
      "2/2 [==============================] - 0s 44ms/step - loss: 1.1583e-04 - accuracy: 0.6981 - val_loss: 1.2431 - val_accuracy: 0.5000\n",
      "Epoch 16/100\n",
      "2/2 [==============================] - 0s 43ms/step - loss: 9.7781e-05 - accuracy: 0.6981 - val_loss: 1.2437 - val_accuracy: 0.5000\n",
      "Epoch 17/100\n",
      "2/2 [==============================] - 0s 41ms/step - loss: 8.5018e-05 - accuracy: 0.6981 - val_loss: 1.2438 - val_accuracy: 0.5000\n",
      "Epoch 18/100\n",
      "2/2 [==============================] - 0s 43ms/step - loss: 7.5119e-05 - accuracy: 0.6981 - val_loss: 1.2438 - val_accuracy: 0.5000\n",
      "Epoch 19/100\n",
      "2/2 [==============================] - 0s 49ms/step - loss: 6.6831e-05 - accuracy: 0.6981 - val_loss: 1.2440 - val_accuracy: 0.5000\n",
      "Epoch 20/100\n",
      "2/2 [==============================] - 0s 50ms/step - loss: 6.0908e-05 - accuracy: 0.6981 - val_loss: 1.2445 - val_accuracy: 0.5000\n",
      "Epoch 21/100\n",
      "2/2 [==============================] - 0s 43ms/step - loss: 5.5505e-05 - accuracy: 0.7170 - val_loss: 1.2451 - val_accuracy: 0.5000\n",
      "Epoch 22/100\n",
      "2/2 [==============================] - 0s 43ms/step - loss: 5.1199e-05 - accuracy: 0.7170 - val_loss: 1.2460 - val_accuracy: 0.5000\n",
      "Epoch 23/100\n",
      "2/2 [==============================] - 0s 41ms/step - loss: 4.8154e-05 - accuracy: 0.7170 - val_loss: 1.2469 - val_accuracy: 0.5000\n",
      "Epoch 24/100\n",
      "2/2 [==============================] - 0s 49ms/step - loss: 4.5595e-05 - accuracy: 0.7170 - val_loss: 1.2477 - val_accuracy: 0.5000\n",
      "Epoch 25/100\n",
      "2/2 [==============================] - 0s 44ms/step - loss: 4.3158e-05 - accuracy: 0.7170 - val_loss: 1.2486 - val_accuracy: 0.5000\n",
      "Epoch 26/100\n",
      "2/2 [==============================] - 0s 44ms/step - loss: 4.0786e-05 - accuracy: 0.7170 - val_loss: 1.2494 - val_accuracy: 0.5000\n",
      "Epoch 27/100\n",
      "2/2 [==============================] - 0s 45ms/step - loss: 3.9369e-05 - accuracy: 0.7170 - val_loss: 1.2503 - val_accuracy: 0.5000\n",
      "Epoch 28/100\n",
      "2/2 [==============================] - 0s 44ms/step - loss: 3.7744e-05 - accuracy: 0.7170 - val_loss: 1.2513 - val_accuracy: 0.5000\n",
      "Epoch 29/100\n",
      "2/2 [==============================] - 0s 40ms/step - loss: 3.6336e-05 - accuracy: 0.7170 - val_loss: 1.2521 - val_accuracy: 0.5000\n",
      "Epoch 30/100\n",
      "2/2 [==============================] - 0s 47ms/step - loss: 3.5057e-05 - accuracy: 0.7170 - val_loss: 1.2530 - val_accuracy: 0.5000\n",
      "Epoch 31/100\n",
      "2/2 [==============================] - 0s 54ms/step - loss: 3.4097e-05 - accuracy: 0.7170 - val_loss: 1.2538 - val_accuracy: 0.5000\n",
      "Epoch 32/100\n",
      "2/2 [==============================] - 0s 44ms/step - loss: 3.3058e-05 - accuracy: 0.7170 - val_loss: 1.2546 - val_accuracy: 0.5000\n",
      "Epoch 33/100\n",
      "2/2 [==============================] - 0s 45ms/step - loss: 3.2218e-05 - accuracy: 0.7170 - val_loss: 1.2553 - val_accuracy: 0.5000\n",
      "Epoch 34/100\n",
      "2/2 [==============================] - 0s 42ms/step - loss: 3.1371e-05 - accuracy: 0.7170 - val_loss: 1.2560 - val_accuracy: 0.5000\n",
      "Epoch 35/100\n",
      "2/2 [==============================] - 0s 49ms/step - loss: 3.0673e-05 - accuracy: 0.7170 - val_loss: 1.2568 - val_accuracy: 0.5000\n",
      "Epoch 36/100\n",
      "2/2 [==============================] - 0s 45ms/step - loss: 2.9913e-05 - accuracy: 0.7170 - val_loss: 1.2575 - val_accuracy: 0.5000\n",
      "Epoch 37/100\n",
      "2/2 [==============================] - 0s 49ms/step - loss: 2.9427e-05 - accuracy: 0.7170 - val_loss: 1.2583 - val_accuracy: 0.5000\n",
      "Epoch 38/100\n",
      "2/2 [==============================] - 0s 43ms/step - loss: 2.8754e-05 - accuracy: 0.7170 - val_loss: 1.2590 - val_accuracy: 0.5000\n",
      "Epoch 39/100\n",
      "2/2 [==============================] - 0s 42ms/step - loss: 2.8149e-05 - accuracy: 0.7170 - val_loss: 1.2596 - val_accuracy: 0.5000\n",
      "Epoch 40/100\n",
      "2/2 [==============================] - 0s 47ms/step - loss: 2.7718e-05 - accuracy: 0.7170 - val_loss: 1.2602 - val_accuracy: 0.5000\n",
      "Epoch 41/100\n",
      "2/2 [==============================] - 0s 45ms/step - loss: 2.7196e-05 - accuracy: 0.7170 - val_loss: 1.2608 - val_accuracy: 0.5000\n",
      "Epoch 42/100\n",
      "2/2 [==============================] - 0s 43ms/step - loss: 2.6708e-05 - accuracy: 0.7170 - val_loss: 1.2613 - val_accuracy: 0.5000\n",
      "Epoch 43/100\n",
      "2/2 [==============================] - 0s 47ms/step - loss: 2.6275e-05 - accuracy: 0.6981 - val_loss: 1.2618 - val_accuracy: 0.5000\n",
      "Epoch 44/100\n",
      "2/2 [==============================] - 0s 42ms/step - loss: 2.5849e-05 - accuracy: 0.6981 - val_loss: 1.2623 - val_accuracy: 0.5000\n",
      "Epoch 45/100\n",
      "2/2 [==============================] - 0s 46ms/step - loss: 2.5378e-05 - accuracy: 0.6981 - val_loss: 1.2628 - val_accuracy: 0.5000\n",
      "Epoch 46/100\n",
      "2/2 [==============================] - 0s 46ms/step - loss: 2.5044e-05 - accuracy: 0.6981 - val_loss: 1.2632 - val_accuracy: 0.5000\n",
      "Epoch 47/100\n",
      "2/2 [==============================] - 0s 45ms/step - loss: 2.4691e-05 - accuracy: 0.6981 - val_loss: 1.2637 - val_accuracy: 0.5000\n",
      "Epoch 48/100\n",
      "2/2 [==============================] - 0s 47ms/step - loss: 2.4317e-05 - accuracy: 0.6981 - val_loss: 1.2641 - val_accuracy: 0.5000\n",
      "Epoch 49/100\n",
      "2/2 [==============================] - 0s 44ms/step - loss: 2.3929e-05 - accuracy: 0.6981 - val_loss: 1.2645 - val_accuracy: 0.5000\n",
      "Epoch 50/100\n",
      "2/2 [==============================] - 0s 51ms/step - loss: 2.3589e-05 - accuracy: 0.6981 - val_loss: 1.2649 - val_accuracy: 0.5000\n",
      "Epoch 51/100\n",
      "2/2 [==============================] - 0s 47ms/step - loss: 2.3266e-05 - accuracy: 0.6981 - val_loss: 1.2652 - val_accuracy: 0.5000\n",
      "Epoch 52/100\n",
      "2/2 [==============================] - 0s 52ms/step - loss: 2.2962e-05 - accuracy: 0.6981 - val_loss: 1.2655 - val_accuracy: 0.5000\n",
      "Epoch 53/100\n",
      "2/2 [==============================] - 0s 48ms/step - loss: 2.2638e-05 - accuracy: 0.6981 - val_loss: 1.2658 - val_accuracy: 0.5000\n",
      "Epoch 54/100\n",
      "2/2 [==============================] - 0s 40ms/step - loss: 2.2373e-05 - accuracy: 0.6981 - val_loss: 1.2662 - val_accuracy: 0.5000\n",
      "Epoch 55/100\n",
      "2/2 [==============================] - 0s 42ms/step - loss: 2.2053e-05 - accuracy: 0.6981 - val_loss: 1.2666 - val_accuracy: 0.5000\n",
      "Epoch 56/100\n",
      "2/2 [==============================] - 0s 43ms/step - loss: 2.1784e-05 - accuracy: 0.6981 - val_loss: 1.2671 - val_accuracy: 0.5000\n",
      "Epoch 57/100\n",
      "2/2 [==============================] - 0s 42ms/step - loss: 2.1513e-05 - accuracy: 0.6981 - val_loss: 1.2675 - val_accuracy: 0.5000\n",
      "Epoch 58/100\n",
      "2/2 [==============================] - 0s 45ms/step - loss: 2.1243e-05 - accuracy: 0.6981 - val_loss: 1.2679 - val_accuracy: 0.5000\n",
      "Epoch 59/100\n",
      "2/2 [==============================] - 0s 43ms/step - loss: 2.1003e-05 - accuracy: 0.6981 - val_loss: 1.2684 - val_accuracy: 0.5000\n",
      "Epoch 60/100\n",
      "2/2 [==============================] - 0s 44ms/step - loss: 2.0743e-05 - accuracy: 0.6981 - val_loss: 1.2687 - val_accuracy: 0.5000\n",
      "Epoch 61/100\n",
      "2/2 [==============================] - 0s 46ms/step - loss: 2.0503e-05 - accuracy: 0.6981 - val_loss: 1.2691 - val_accuracy: 0.5000\n",
      "Epoch 62/100\n",
      "2/2 [==============================] - 0s 46ms/step - loss: 2.0258e-05 - accuracy: 0.6981 - val_loss: 1.2695 - val_accuracy: 0.5000\n",
      "Epoch 63/100\n",
      "2/2 [==============================] - 0s 41ms/step - loss: 2.0048e-05 - accuracy: 0.6981 - val_loss: 1.2699 - val_accuracy: 0.5000\n",
      "Epoch 64/100\n",
      "2/2 [==============================] - 0s 40ms/step - loss: 1.9821e-05 - accuracy: 0.6981 - val_loss: 1.2702 - val_accuracy: 0.5000\n",
      "Epoch 65/100\n",
      "2/2 [==============================] - 0s 42ms/step - loss: 1.9581e-05 - accuracy: 0.6981 - val_loss: 1.2706 - val_accuracy: 0.5000\n",
      "Epoch 66/100\n",
      "2/2 [==============================] - 0s 44ms/step - loss: 1.9371e-05 - accuracy: 0.6981 - val_loss: 1.2709 - val_accuracy: 0.5000\n",
      "Epoch 67/100\n",
      "2/2 [==============================] - 0s 40ms/step - loss: 1.9159e-05 - accuracy: 0.6981 - val_loss: 1.2712 - val_accuracy: 0.5000\n",
      "Epoch 68/100\n",
      "2/2 [==============================] - 0s 59ms/step - loss: 1.8970e-05 - accuracy: 0.6981 - val_loss: 1.2716 - val_accuracy: 0.5000\n",
      "Epoch 69/100\n",
      "2/2 [==============================] - 0s 49ms/step - loss: 1.8753e-05 - accuracy: 0.6981 - val_loss: 1.2719 - val_accuracy: 0.5000\n",
      "Epoch 70/100\n",
      "2/2 [==============================] - 0s 47ms/step - loss: 1.8549e-05 - accuracy: 0.6981 - val_loss: 1.2722 - val_accuracy: 0.5000\n",
      "Epoch 71/100\n",
      "2/2 [==============================] - 0s 42ms/step - loss: 1.8358e-05 - accuracy: 0.6981 - val_loss: 1.2725 - val_accuracy: 0.5000\n",
      "Epoch 72/100\n",
      "2/2 [==============================] - 0s 42ms/step - loss: 1.8167e-05 - accuracy: 0.6981 - val_loss: 1.2728 - val_accuracy: 0.5000\n",
      "Epoch 73/100\n",
      "2/2 [==============================] - 0s 49ms/step - loss: 1.7996e-05 - accuracy: 0.6981 - val_loss: 1.2730 - val_accuracy: 0.5000\n",
      "Epoch 74/100\n",
      "2/2 [==============================] - 0s 46ms/step - loss: 1.7815e-05 - accuracy: 0.6981 - val_loss: 1.2733 - val_accuracy: 0.5000\n",
      "Epoch 75/100\n",
      "2/2 [==============================] - 0s 45ms/step - loss: 1.7606e-05 - accuracy: 0.6981 - val_loss: 1.2735 - val_accuracy: 0.5000\n",
      "Epoch 76/100\n",
      "2/2 [==============================] - 0s 42ms/step - loss: 1.7451e-05 - accuracy: 0.6981 - val_loss: 1.2737 - val_accuracy: 0.5000\n",
      "Epoch 77/100\n",
      "2/2 [==============================] - 0s 46ms/step - loss: 1.7269e-05 - accuracy: 0.6981 - val_loss: 1.2739 - val_accuracy: 0.5000\n",
      "Epoch 78/100\n",
      "2/2 [==============================] - 0s 41ms/step - loss: 1.7110e-05 - accuracy: 0.6981 - val_loss: 1.2741 - val_accuracy: 0.5000\n",
      "Epoch 79/100\n",
      "2/2 [==============================] - 0s 43ms/step - loss: 1.6926e-05 - accuracy: 0.6981 - val_loss: 1.2743 - val_accuracy: 0.5000\n",
      "Epoch 80/100\n",
      "2/2 [==============================] - 0s 40ms/step - loss: 1.6788e-05 - accuracy: 0.6981 - val_loss: 1.2745 - val_accuracy: 0.5000\n",
      "Epoch 81/100\n",
      "2/2 [==============================] - 0s 44ms/step - loss: 1.6607e-05 - accuracy: 0.6981 - val_loss: 1.2747 - val_accuracy: 0.5000\n",
      "Epoch 82/100\n",
      "2/2 [==============================] - 0s 46ms/step - loss: 1.6445e-05 - accuracy: 0.6981 - val_loss: 1.2750 - val_accuracy: 0.5000\n",
      "Epoch 83/100\n",
      "2/2 [==============================] - 0s 44ms/step - loss: 1.6307e-05 - accuracy: 0.6981 - val_loss: 1.2752 - val_accuracy: 0.5000\n",
      "Epoch 84/100\n",
      "2/2 [==============================] - 0s 47ms/step - loss: 1.6139e-05 - accuracy: 0.6981 - val_loss: 1.2755 - val_accuracy: 0.5000\n",
      "Epoch 85/100\n",
      "2/2 [==============================] - 0s 42ms/step - loss: 1.5992e-05 - accuracy: 0.6981 - val_loss: 1.2756 - val_accuracy: 0.5000\n",
      "Epoch 86/100\n",
      "2/2 [==============================] - 0s 43ms/step - loss: 1.5853e-05 - accuracy: 0.6981 - val_loss: 1.2758 - val_accuracy: 0.5000\n",
      "Epoch 87/100\n",
      "2/2 [==============================] - 0s 42ms/step - loss: 1.5708e-05 - accuracy: 0.6981 - val_loss: 1.2760 - val_accuracy: 0.5000\n",
      "Epoch 88/100\n",
      "2/2 [==============================] - 0s 41ms/step - loss: 1.5550e-05 - accuracy: 0.6981 - val_loss: 1.2761 - val_accuracy: 0.5000\n",
      "Epoch 89/100\n",
      "2/2 [==============================] - 0s 43ms/step - loss: 1.5425e-05 - accuracy: 0.6981 - val_loss: 1.2762 - val_accuracy: 0.5000\n",
      "Epoch 90/100\n",
      "2/2 [==============================] - 0s 61ms/step - loss: 1.5283e-05 - accuracy: 0.6981 - val_loss: 1.2764 - val_accuracy: 0.5000\n",
      "Epoch 91/100\n",
      "2/2 [==============================] - 0s 50ms/step - loss: 1.5147e-05 - accuracy: 0.6981 - val_loss: 1.2766 - val_accuracy: 0.5000\n",
      "Epoch 92/100\n",
      "2/2 [==============================] - 0s 43ms/step - loss: 1.5014e-05 - accuracy: 0.6981 - val_loss: 1.2767 - val_accuracy: 0.5000\n",
      "Epoch 93/100\n",
      "2/2 [==============================] - 0s 49ms/step - loss: 1.4876e-05 - accuracy: 0.6981 - val_loss: 1.2769 - val_accuracy: 0.5000\n",
      "Epoch 94/100\n",
      "2/2 [==============================] - 0s 40ms/step - loss: 1.4751e-05 - accuracy: 0.6981 - val_loss: 1.2770 - val_accuracy: 0.5000\n",
      "Epoch 95/100\n",
      "2/2 [==============================] - 0s 60ms/step - loss: 1.4627e-05 - accuracy: 0.6981 - val_loss: 1.2772 - val_accuracy: 0.5000\n",
      "Epoch 96/100\n",
      "2/2 [==============================] - 0s 43ms/step - loss: 1.4499e-05 - accuracy: 0.6981 - val_loss: 1.2773 - val_accuracy: 0.5000\n",
      "Epoch 97/100\n",
      "2/2 [==============================] - 0s 53ms/step - loss: 1.4377e-05 - accuracy: 0.6981 - val_loss: 1.2775 - val_accuracy: 0.5000\n",
      "Epoch 98/100\n",
      "2/2 [==============================] - 0s 58ms/step - loss: 1.4256e-05 - accuracy: 0.6981 - val_loss: 1.2776 - val_accuracy: 0.5000\n",
      "Epoch 99/100\n",
      "2/2 [==============================] - 0s 53ms/step - loss: 1.4151e-05 - accuracy: 0.6981 - val_loss: 1.2778 - val_accuracy: 0.5000\n",
      "Epoch 100/100\n",
      "2/2 [==============================] - 0s 56ms/step - loss: 1.4023e-05 - accuracy: 0.6981 - val_loss: 1.2779 - val_accuracy: 0.5000\n"
     ]
    },
    {
     "data": {
      "text/plain": [
       "<keras.src.callbacks.History at 0x7f4cb8549cc0>"
      ]
     },
     "execution_count": 9,
     "metadata": {},
     "output_type": "execute_result"
    }
   ],
   "source": [
    "# Training the model\n",
    "model.fit(X, y, epochs=100, batch_size=32, validation_split=0.1)"
   ]
  },
  {
   "cell_type": "code",
   "execution_count": 10,
   "id": "438999f9",
   "metadata": {
    "execution": {
     "iopub.execute_input": "2024-02-13T17:55:38.422562Z",
     "iopub.status.busy": "2024-02-13T17:55:38.422053Z",
     "iopub.status.idle": "2024-02-13T17:55:38.650993Z",
     "shell.execute_reply": "2024-02-13T17:55:38.649783Z"
    },
    "papermill": {
     "duration": 0.269594,
     "end_time": "2024-02-13T17:55:38.654382",
     "exception": false,
     "start_time": "2024-02-13T17:55:38.384788",
     "status": "completed"
    },
    "tags": []
   },
   "outputs": [
    {
     "name": "stdout",
     "output_type": "stream",
     "text": [
      "2/2 [==============================] - 0s 6ms/step\n"
     ]
    }
   ],
   "source": [
    "y_pred_prob = model.predict(X_test)\n",
    "y_pred = (y_pred_prob > 0.5).astype(int)  # Threshold probabilities to get binary predictions"
   ]
  },
  {
   "cell_type": "code",
   "execution_count": 11,
   "id": "63203dd9",
   "metadata": {
    "execution": {
     "iopub.execute_input": "2024-02-13T17:55:38.728355Z",
     "iopub.status.busy": "2024-02-13T17:55:38.727806Z",
     "iopub.status.idle": "2024-02-13T17:55:38.740759Z",
     "shell.execute_reply": "2024-02-13T17:55:38.739422Z"
    },
    "papermill": {
     "duration": 0.053178,
     "end_time": "2024-02-13T17:55:38.743776",
     "exception": false,
     "start_time": "2024-02-13T17:55:38.690598",
     "status": "completed"
    },
    "tags": []
   },
   "outputs": [],
   "source": [
    "y_pred\n",
    "DF = pd.DataFrame(y_pred)\n",
    "ID = pd.DataFrame(df_test['patient_id'])\n",
    "data = pd.concat([ID, DF], axis=1)\n",
    "data.to_csv(\"Y_BioMed.csv\")"
   ]
  },
  {
   "cell_type": "code",
   "execution_count": 12,
   "id": "f9f0540e",
   "metadata": {
    "execution": {
     "iopub.execute_input": "2024-02-13T17:55:38.818849Z",
     "iopub.status.busy": "2024-02-13T17:55:38.818175Z",
     "iopub.status.idle": "2024-02-13T17:55:38.826186Z",
     "shell.execute_reply": "2024-02-13T17:55:38.825074Z"
    },
    "papermill": {
     "duration": 0.047891,
     "end_time": "2024-02-13T17:55:38.828553",
     "exception": false,
     "start_time": "2024-02-13T17:55:38.780662",
     "status": "completed"
    },
    "tags": []
   },
   "outputs": [
    {
     "data": {
      "text/plain": [
       "(49, 12272)"
      ]
     },
     "execution_count": 12,
     "metadata": {},
     "output_type": "execute_result"
    }
   ],
   "source": [
    "X_test.shape"
   ]
  },
  {
   "cell_type": "code",
   "execution_count": 13,
   "id": "600a8507",
   "metadata": {
    "execution": {
     "iopub.execute_input": "2024-02-13T17:55:38.902926Z",
     "iopub.status.busy": "2024-02-13T17:55:38.901584Z",
     "iopub.status.idle": "2024-02-13T17:55:38.915021Z",
     "shell.execute_reply": "2024-02-13T17:55:38.913561Z"
    },
    "papermill": {
     "duration": 0.054295,
     "end_time": "2024-02-13T17:55:38.918433",
     "exception": false,
     "start_time": "2024-02-13T17:55:38.864138",
     "status": "completed"
    },
    "tags": []
   },
   "outputs": [
    {
     "name": "stdout",
     "output_type": "stream",
     "text": [
      "<class 'pandas.core.frame.DataFrame'>\n",
      "RangeIndex: 49 entries, 0 to 48\n",
      "Data columns (total 6 columns):\n",
      " #   Column      Non-Null Count  Dtype \n",
      "---  ------      --------------  ----- \n",
      " 0   patient_id  49 non-null     object\n",
      " 1   0           49 non-null     int64 \n",
      " 2   1           49 non-null     int64 \n",
      " 3   2           49 non-null     int64 \n",
      " 4   3           49 non-null     int64 \n",
      " 5   4           49 non-null     int64 \n",
      "dtypes: int64(5), object(1)\n",
      "memory usage: 2.4+ KB\n"
     ]
    }
   ],
   "source": [
    "data.info()"
   ]
  }
 ],
 "metadata": {
  "kaggle": {
   "accelerator": "none",
   "dataSources": [
    {
     "databundleVersionId": 7683890,
     "sourceId": 70055,
     "sourceType": "competition"
    }
   ],
   "dockerImageVersionId": 30646,
   "isGpuEnabled": false,
   "isInternetEnabled": true,
   "language": "python",
   "sourceType": "notebook"
  },
  "kernelspec": {
   "display_name": "Python 3",
   "language": "python",
   "name": "python3"
  },
  "language_info": {
   "codemirror_mode": {
    "name": "ipython",
    "version": 3
   },
   "file_extension": ".py",
   "mimetype": "text/x-python",
   "name": "python",
   "nbconvert_exporter": "python",
   "pygments_lexer": "ipython3",
   "version": "3.10.13"
  },
  "papermill": {
   "default_parameters": {},
   "duration": 77.160291,
   "end_time": "2024-02-13T17:55:41.324663",
   "environment_variables": {},
   "exception": null,
   "input_path": "__notebook__.ipynb",
   "output_path": "__notebook__.ipynb",
   "parameters": {},
   "start_time": "2024-02-13T17:54:24.164372",
   "version": "2.5.0"
  }
 },
 "nbformat": 4,
 "nbformat_minor": 5
}
